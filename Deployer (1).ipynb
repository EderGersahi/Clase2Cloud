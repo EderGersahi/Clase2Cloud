{
  "cells": [
    {
      "cell_type": "markdown",
      "metadata": {
        "id": "zPSSoA_a0cY-"
      },
      "source": [
        "ESQUELETO:\n",
        "\n",
        "Este es el archivo para subir el modelo a la nube.\n",
        "\n",
        "\n",
        "CÓMO FUNCIONA:\n",
        "\n",
        "1. Tomar un modelo ya realizado.\n",
        "\n",
        "2. Lo sube a la nube.\n",
        "\n",
        "ASEGÚRENSE DE QUE SE COORDINAN LO NECESARIO PARA QUE LOS NOMBRES COINCIDAN (no es de chill cambiar el estándar xd)."
      ]
    },
    {
      "cell_type": "code",
      "source": [
        "pip install azureml.core"
      ],
      "metadata": {
        "colab": {
          "base_uri": "https://localhost:8080/"
        },
        "id": "4j5Q1N822EoC",
        "outputId": "d4ee709f-2005-4f98-af9b-3f97b86c765b"
      },
      "execution_count": 11,
      "outputs": [
        {
          "output_type": "stream",
          "name": "stdout",
          "text": [
            "Collecting azureml.core\n",
            "  Downloading azureml_core-1.59.0.post2-py3-none-any.whl.metadata (3.4 kB)\n",
            "Requirement already satisfied: pytz in /usr/local/lib/python3.11/dist-packages (from azureml.core) (2025.2)\n",
            "Collecting backports.tempfile (from azureml.core)\n",
            "  Downloading backports.tempfile-1.0-py2.py3-none-any.whl.metadata (2.3 kB)\n",
            "Collecting pathspec<1.0.0 (from azureml.core)\n",
            "  Downloading pathspec-0.12.1-py3-none-any.whl.metadata (21 kB)\n",
            "Requirement already satisfied: requests<3.0.0,>=2.19.1 in /usr/local/lib/python3.11/dist-packages (from requests[socks]<3.0.0,>=2.19.1->azureml.core) (2.32.3)\n",
            "Collecting msal<2.0.0,>=1.15.0 (from azureml.core)\n",
            "  Downloading msal-1.32.0-py3-none-any.whl.metadata (11 kB)\n",
            "Collecting msal-extensions<=2.0.0,>=0.3.0 (from azureml.core)\n",
            "  Downloading msal_extensions-1.3.1-py3-none-any.whl.metadata (7.8 kB)\n",
            "Collecting knack<0.13.0 (from azureml.core)\n",
            "  Downloading knack-0.12.0-py3-none-any.whl.metadata (5.2 kB)\n",
            "Collecting azure-core<2.0.0 (from azureml.core)\n",
            "  Downloading azure_core-1.32.0-py3-none-any.whl.metadata (39 kB)\n",
            "Collecting pkginfo (from azureml.core)\n",
            "  Downloading pkginfo-1.12.1.2-py3-none-any.whl.metadata (13 kB)\n",
            "Collecting argcomplete<4 (from azureml.core)\n",
            "  Downloading argcomplete-3.6.1-py3-none-any.whl.metadata (16 kB)\n",
            "Collecting humanfriendly<11.0,>=4.7 (from azureml.core)\n",
            "  Downloading humanfriendly-10.0-py2.py3-none-any.whl.metadata (9.2 kB)\n",
            "Collecting paramiko<4.0.0,>=2.0.8 (from azureml.core)\n",
            "  Downloading paramiko-3.5.1-py3-none-any.whl.metadata (4.6 kB)\n",
            "Collecting azure-mgmt-resource<=24.0.0,>=15.0.0 (from azureml.core)\n",
            "  Downloading azure_mgmt_resource-23.3.0-py3-none-any.whl.metadata (41 kB)\n",
            "\u001b[2K     \u001b[90m━━━━━━━━━━━━━━━━━━━━━━━━━━━━━━━━━━━━━━━━\u001b[0m \u001b[32m41.4/41.4 kB\u001b[0m \u001b[31m3.3 MB/s\u001b[0m eta \u001b[36m0:00:00\u001b[0m\n",
            "\u001b[?25hCollecting azure-mgmt-containerregistry<11,>=8.2.0 (from azureml.core)\n",
            "  Downloading azure_mgmt_containerregistry-10.3.0-py3-none-any.whl.metadata (23 kB)\n",
            "Collecting azure-mgmt-storage<=22.0.0,>=16.0.0 (from azureml.core)\n",
            "  Downloading azure_mgmt_storage-22.0.0-py3-none-any.whl.metadata (31 kB)\n",
            "Collecting azure-mgmt-keyvault<11.0.0,>=0.40.0 (from azureml.core)\n",
            "  Downloading azure_mgmt_keyvault-10.3.1-py3-none-any.whl.metadata (15 kB)\n",
            "Collecting azure-mgmt-authorization<5,>=0.40.0 (from azureml.core)\n",
            "  Downloading azure_mgmt_authorization-4.0.0-py3-none-any.whl.metadata (18 kB)\n",
            "Collecting azure-mgmt-network<=29.0.0 (from azureml.core)\n",
            "  Downloading azure_mgmt_network-28.1.0-py3-none-any.whl.metadata (90 kB)\n",
            "\u001b[2K     \u001b[90m━━━━━━━━━━━━━━━━━━━━━━━━━━━━━━━━━━━━━━━━\u001b[0m \u001b[32m90.7/90.7 kB\u001b[0m \u001b[31m4.7 MB/s\u001b[0m eta \u001b[36m0:00:00\u001b[0m\n",
            "\u001b[?25hCollecting azure-graphrbac<1.0.0,>=0.40.0 (from azureml.core)\n",
            "  Downloading azure_graphrbac-0.61.2-py2.py3-none-any.whl.metadata (11 kB)\n",
            "Collecting azure-common<2.0.0,>=1.1.12 (from azureml.core)\n",
            "  Downloading azure_common-1.1.28-py2.py3-none-any.whl.metadata (5.0 kB)\n",
            "Collecting msrest<=0.7.1,>=0.5.1 (from azureml.core)\n",
            "  Downloading msrest-0.7.1-py3-none-any.whl.metadata (21 kB)\n",
            "Collecting msrestazure<=0.7,>=0.4.33 (from azureml.core)\n",
            "  Downloading msrestazure-0.6.4.post1-py2.py3-none-any.whl.metadata (15 kB)\n",
            "Requirement already satisfied: urllib3<3.0.0,>1.26.17 in /usr/local/lib/python3.11/dist-packages (from azureml.core) (2.3.0)\n",
            "Requirement already satisfied: packaging<=25.0,>=20.0 in /usr/local/lib/python3.11/dist-packages (from azureml.core) (24.2)\n",
            "Requirement already satisfied: python-dateutil<3.0.0,>=2.7.3 in /usr/local/lib/python3.11/dist-packages (from azureml.core) (2.8.2)\n",
            "Collecting ndg-httpsclient<=0.5.1 (from azureml.core)\n",
            "  Downloading ndg_httpsclient-0.5.1-py3-none-any.whl.metadata (6.2 kB)\n",
            "Requirement already satisfied: SecretStorage<4.0.0 in /usr/lib/python3/dist-packages (from azureml.core) (3.3.1)\n",
            "Requirement already satisfied: jsonpickle<5.0.0 in /usr/local/lib/python3.11/dist-packages (from azureml.core) (4.0.2)\n",
            "Collecting contextlib2<22.0.0 (from azureml.core)\n",
            "  Downloading contextlib2-21.6.0-py2.py3-none-any.whl.metadata (4.1 kB)\n",
            "Collecting docker<8.0.0 (from azureml.core)\n",
            "  Downloading docker-7.1.0-py3-none-any.whl.metadata (3.8 kB)\n",
            "Requirement already satisfied: PyJWT<3.0.0 in /usr/local/lib/python3.11/dist-packages (from azureml.core) (2.10.1)\n",
            "Collecting adal<=1.2.7,>=1.2.0 (from azureml.core)\n",
            "  Downloading adal-1.2.7-py2.py3-none-any.whl.metadata (6.9 kB)\n",
            "Requirement already satisfied: pyopenssl<25.0.0 in /usr/local/lib/python3.11/dist-packages (from azureml.core) (24.2.1)\n",
            "Collecting jmespath<2.0.0 (from azureml.core)\n",
            "  Downloading jmespath-1.0.1-py3-none-any.whl.metadata (7.6 kB)\n",
            "Requirement already satisfied: cryptography>=1.1.0 in /usr/local/lib/python3.11/dist-packages (from adal<=1.2.7,>=1.2.0->azureml.core) (43.0.3)\n",
            "Requirement already satisfied: six>=1.11.0 in /usr/local/lib/python3.11/dist-packages (from azure-core<2.0.0->azureml.core) (1.17.0)\n",
            "Requirement already satisfied: typing-extensions>=4.6.0 in /usr/local/lib/python3.11/dist-packages (from azure-core<2.0.0->azureml.core) (4.13.0)\n",
            "Collecting isodate<1.0.0,>=0.6.1 (from azure-mgmt-authorization<5,>=0.40.0->azureml.core)\n",
            "  Downloading isodate-0.7.2-py3-none-any.whl.metadata (11 kB)\n",
            "Collecting azure-mgmt-core<2.0.0,>=1.3.2 (from azure-mgmt-authorization<5,>=0.40.0->azureml.core)\n",
            "  Downloading azure_mgmt_core-1.5.0-py3-none-any.whl.metadata (4.3 kB)\n",
            "Requirement already satisfied: pygments in /usr/local/lib/python3.11/dist-packages (from knack<0.13.0->azureml.core) (2.18.0)\n",
            "Requirement already satisfied: pyyaml in /usr/local/lib/python3.11/dist-packages (from knack<0.13.0->azureml.core) (6.0.2)\n",
            "Requirement already satisfied: tabulate in /usr/local/lib/python3.11/dist-packages (from knack<0.13.0->azureml.core) (0.9.0)\n",
            "Requirement already satisfied: certifi>=2017.4.17 in /usr/local/lib/python3.11/dist-packages (from msrest<=0.7.1,>=0.5.1->azureml.core) (2025.1.31)\n",
            "Requirement already satisfied: requests-oauthlib>=0.5.0 in /usr/local/lib/python3.11/dist-packages (from msrest<=0.7.1,>=0.5.1->azureml.core) (2.0.0)\n",
            "Requirement already satisfied: pyasn1>=0.1.1 in /usr/local/lib/python3.11/dist-packages (from ndg-httpsclient<=0.5.1->azureml.core) (0.6.1)\n",
            "Collecting bcrypt>=3.2 (from paramiko<4.0.0,>=2.0.8->azureml.core)\n",
            "  Downloading bcrypt-4.3.0-cp39-abi3-manylinux_2_34_x86_64.whl.metadata (10 kB)\n",
            "Collecting pynacl>=1.5 (from paramiko<4.0.0,>=2.0.8->azureml.core)\n",
            "  Downloading PyNaCl-1.5.0-cp36-abi3-manylinux_2_17_x86_64.manylinux2014_x86_64.manylinux_2_24_x86_64.whl.metadata (8.6 kB)\n",
            "Requirement already satisfied: charset-normalizer<4,>=2 in /usr/local/lib/python3.11/dist-packages (from requests<3.0.0,>=2.19.1->requests[socks]<3.0.0,>=2.19.1->azureml.core) (3.4.1)\n",
            "Requirement already satisfied: idna<4,>=2.5 in /usr/local/lib/python3.11/dist-packages (from requests<3.0.0,>=2.19.1->requests[socks]<3.0.0,>=2.19.1->azureml.core) (3.10)\n",
            "Requirement already satisfied: PySocks!=1.5.7,>=1.5.6 in /usr/local/lib/python3.11/dist-packages (from requests[socks]<3.0.0,>=2.19.1->azureml.core) (1.7.1)\n",
            "Collecting backports.weakref (from backports.tempfile->azureml.core)\n",
            "  Downloading backports.weakref-1.0.post1-py2.py3-none-any.whl.metadata (2.3 kB)\n",
            "Requirement already satisfied: cffi>=1.12 in /usr/local/lib/python3.11/dist-packages (from cryptography>=1.1.0->adal<=1.2.7,>=1.2.0->azureml.core) (1.17.1)\n",
            "Requirement already satisfied: oauthlib>=3.0.0 in /usr/local/lib/python3.11/dist-packages (from requests-oauthlib>=0.5.0->msrest<=0.7.1,>=0.5.1->azureml.core) (3.2.2)\n",
            "Requirement already satisfied: pycparser in /usr/local/lib/python3.11/dist-packages (from cffi>=1.12->cryptography>=1.1.0->adal<=1.2.7,>=1.2.0->azureml.core) (2.22)\n",
            "Downloading azureml_core-1.59.0.post2-py3-none-any.whl (3.3 MB)\n",
            "\u001b[2K   \u001b[90m━━━━━━━━━━━━━━━━━━━━━━━━━━━━━━━━━━━━━━━━\u001b[0m \u001b[32m3.3/3.3 MB\u001b[0m \u001b[31m40.9 MB/s\u001b[0m eta \u001b[36m0:00:00\u001b[0m\n",
            "\u001b[?25hDownloading adal-1.2.7-py2.py3-none-any.whl (55 kB)\n",
            "\u001b[2K   \u001b[90m━━━━━━━━━━━━━━━━━━━━━━━━━━━━━━━━━━━━━━━━\u001b[0m \u001b[32m55.5/55.5 kB\u001b[0m \u001b[31m4.6 MB/s\u001b[0m eta \u001b[36m0:00:00\u001b[0m\n",
            "\u001b[?25hDownloading argcomplete-3.6.1-py3-none-any.whl (43 kB)\n",
            "\u001b[2K   \u001b[90m━━━━━━━━━━━━━━━━━━━━━━━━━━━━━━━━━━━━━━━━\u001b[0m \u001b[32m44.0/44.0 kB\u001b[0m \u001b[31m3.3 MB/s\u001b[0m eta \u001b[36m0:00:00\u001b[0m\n",
            "\u001b[?25hDownloading azure_common-1.1.28-py2.py3-none-any.whl (14 kB)\n",
            "Downloading azure_core-1.32.0-py3-none-any.whl (198 kB)\n",
            "\u001b[2K   \u001b[90m━━━━━━━━━━━━━━━━━━━━━━━━━━━━━━━━━━━━━━━━\u001b[0m \u001b[32m198.9/198.9 kB\u001b[0m \u001b[31m15.6 MB/s\u001b[0m eta \u001b[36m0:00:00\u001b[0m\n",
            "\u001b[?25hDownloading azure_graphrbac-0.61.2-py2.py3-none-any.whl (142 kB)\n",
            "\u001b[2K   \u001b[90m━━━━━━━━━━━━━━━━━━━━━━━━━━━━━━━━━━━━━━━━\u001b[0m \u001b[32m142.5/142.5 kB\u001b[0m \u001b[31m11.0 MB/s\u001b[0m eta \u001b[36m0:00:00\u001b[0m\n",
            "\u001b[?25hDownloading azure_mgmt_authorization-4.0.0-py3-none-any.whl (1.1 MB)\n",
            "\u001b[2K   \u001b[90m━━━━━━━━━━━━━━━━━━━━━━━━━━━━━━━━━━━━━━━━\u001b[0m \u001b[32m1.1/1.1 MB\u001b[0m \u001b[31m51.4 MB/s\u001b[0m eta \u001b[36m0:00:00\u001b[0m\n",
            "\u001b[?25hDownloading azure_mgmt_containerregistry-10.3.0-py3-none-any.whl (2.3 MB)\n",
            "\u001b[2K   \u001b[90m━━━━━━━━━━━━━━━━━━━━━━━━━━━━━━━━━━━━━━━━\u001b[0m \u001b[32m2.3/2.3 MB\u001b[0m \u001b[31m73.6 MB/s\u001b[0m eta \u001b[36m0:00:00\u001b[0m\n",
            "\u001b[?25hDownloading azure_mgmt_keyvault-10.3.1-py3-none-any.whl (901 kB)\n",
            "\u001b[2K   \u001b[90m━━━━━━━━━━━━━━━━━━━━━━━━━━━━━━━━━━━━━━━━\u001b[0m \u001b[32m901.4/901.4 kB\u001b[0m \u001b[31m46.8 MB/s\u001b[0m eta \u001b[36m0:00:00\u001b[0m\n",
            "\u001b[?25hDownloading azure_mgmt_network-28.1.0-py3-none-any.whl (575 kB)\n",
            "\u001b[2K   \u001b[90m━━━━━━━━━━━━━━━━━━━━━━━━━━━━━━━━━━━━━━━━\u001b[0m \u001b[32m575.3/575.3 kB\u001b[0m \u001b[31m33.2 MB/s\u001b[0m eta \u001b[36m0:00:00\u001b[0m\n",
            "\u001b[?25hDownloading azure_mgmt_resource-23.3.0-py3-none-any.whl (2.9 MB)\n",
            "\u001b[2K   \u001b[90m━━━━━━━━━━━━━━━━━━━━━━━━━━━━━━━━━━━━━━━━\u001b[0m \u001b[32m2.9/2.9 MB\u001b[0m \u001b[31m78.0 MB/s\u001b[0m eta \u001b[36m0:00:00\u001b[0m\n",
            "\u001b[?25hDownloading azure_mgmt_storage-22.0.0-py3-none-any.whl (564 kB)\n",
            "\u001b[2K   \u001b[90m━━━━━━━━━━━━━━━━━━━━━━━━━━━━━━━━━━━━━━━━\u001b[0m \u001b[32m564.0/564.0 kB\u001b[0m \u001b[31m32.1 MB/s\u001b[0m eta \u001b[36m0:00:00\u001b[0m\n",
            "\u001b[?25hDownloading contextlib2-21.6.0-py2.py3-none-any.whl (13 kB)\n",
            "Downloading docker-7.1.0-py3-none-any.whl (147 kB)\n",
            "\u001b[2K   \u001b[90m━━━━━━━━━━━━━━━━━━━━━━━━━━━━━━━━━━━━━━━━\u001b[0m \u001b[32m147.8/147.8 kB\u001b[0m \u001b[31m10.6 MB/s\u001b[0m eta \u001b[36m0:00:00\u001b[0m\n",
            "\u001b[?25hDownloading humanfriendly-10.0-py2.py3-none-any.whl (86 kB)\n",
            "\u001b[2K   \u001b[90m━━━━━━━━━━━━━━━━━━━━━━━━━━━━━━━━━━━━━━━━\u001b[0m \u001b[32m86.8/86.8 kB\u001b[0m \u001b[31m7.6 MB/s\u001b[0m eta \u001b[36m0:00:00\u001b[0m\n",
            "\u001b[?25hDownloading jmespath-1.0.1-py3-none-any.whl (20 kB)\n",
            "Downloading knack-0.12.0-py3-none-any.whl (60 kB)\n",
            "\u001b[2K   \u001b[90m━━━━━━━━━━━━━━━━━━━━━━━━━━━━━━━━━━━━━━━━\u001b[0m \u001b[32m60.8/60.8 kB\u001b[0m \u001b[31m5.0 MB/s\u001b[0m eta \u001b[36m0:00:00\u001b[0m\n",
            "\u001b[?25hDownloading msal-1.32.0-py3-none-any.whl (114 kB)\n",
            "\u001b[2K   \u001b[90m━━━━━━━━━━━━━━━━━━━━━━━━━━━━━━━━━━━━━━━━\u001b[0m \u001b[32m114.7/114.7 kB\u001b[0m \u001b[31m9.2 MB/s\u001b[0m eta \u001b[36m0:00:00\u001b[0m\n",
            "\u001b[?25hDownloading msal_extensions-1.3.1-py3-none-any.whl (20 kB)\n",
            "Downloading msrest-0.7.1-py3-none-any.whl (85 kB)\n",
            "\u001b[2K   \u001b[90m━━━━━━━━━━━━━━━━━━━━━━━━━━━━━━━━━━━━━━━━\u001b[0m \u001b[32m85.4/85.4 kB\u001b[0m \u001b[31m7.0 MB/s\u001b[0m eta \u001b[36m0:00:00\u001b[0m\n",
            "\u001b[?25hDownloading msrestazure-0.6.4.post1-py2.py3-none-any.whl (40 kB)\n",
            "\u001b[2K   \u001b[90m━━━━━━━━━━━━━━━━━━━━━━━━━━━━━━━━━━━━━━━━\u001b[0m \u001b[32m40.8/40.8 kB\u001b[0m \u001b[31m3.0 MB/s\u001b[0m eta \u001b[36m0:00:00\u001b[0m\n",
            "\u001b[?25hDownloading ndg_httpsclient-0.5.1-py3-none-any.whl (34 kB)\n",
            "Downloading paramiko-3.5.1-py3-none-any.whl (227 kB)\n",
            "\u001b[2K   \u001b[90m━━━━━━━━━━━━━━━━━━━━━━━━━━━━━━━━━━━━━━━━\u001b[0m \u001b[32m227.3/227.3 kB\u001b[0m \u001b[31m17.7 MB/s\u001b[0m eta \u001b[36m0:00:00\u001b[0m\n",
            "\u001b[?25hDownloading pathspec-0.12.1-py3-none-any.whl (31 kB)\n",
            "Downloading backports.tempfile-1.0-py2.py3-none-any.whl (4.4 kB)\n",
            "Downloading pkginfo-1.12.1.2-py3-none-any.whl (32 kB)\n",
            "Downloading azure_mgmt_core-1.5.0-py3-none-any.whl (30 kB)\n",
            "Downloading bcrypt-4.3.0-cp39-abi3-manylinux_2_34_x86_64.whl (284 kB)\n",
            "\u001b[2K   \u001b[90m━━━━━━━━━━━━━━━━━━━━━━━━━━━━━━━━━━━━━━━━\u001b[0m \u001b[32m284.2/284.2 kB\u001b[0m \u001b[31m21.1 MB/s\u001b[0m eta \u001b[36m0:00:00\u001b[0m\n",
            "\u001b[?25hDownloading isodate-0.7.2-py3-none-any.whl (22 kB)\n",
            "Downloading PyNaCl-1.5.0-cp36-abi3-manylinux_2_17_x86_64.manylinux2014_x86_64.manylinux_2_24_x86_64.whl (856 kB)\n",
            "\u001b[2K   \u001b[90m━━━━━━━━━━━━━━━━━━━━━━━━━━━━━━━━━━━━━━━━\u001b[0m \u001b[32m856.7/856.7 kB\u001b[0m \u001b[31m46.0 MB/s\u001b[0m eta \u001b[36m0:00:00\u001b[0m\n",
            "\u001b[?25hDownloading backports.weakref-1.0.post1-py2.py3-none-any.whl (5.2 kB)\n",
            "Installing collected packages: backports.weakref, azure-common, pkginfo, pathspec, jmespath, isodate, humanfriendly, contextlib2, bcrypt, backports.tempfile, argcomplete, pynacl, knack, docker, azure-core, paramiko, msrest, azure-mgmt-core, adal, ndg-httpsclient, msrestazure, msal, azure-mgmt-storage, azure-mgmt-resource, azure-mgmt-network, azure-mgmt-keyvault, azure-mgmt-containerregistry, azure-mgmt-authorization, msal-extensions, azure-graphrbac, azureml.core\n",
            "Successfully installed adal-1.2.7 argcomplete-3.6.1 azure-common-1.1.28 azure-core-1.32.0 azure-graphrbac-0.61.2 azure-mgmt-authorization-4.0.0 azure-mgmt-containerregistry-10.3.0 azure-mgmt-core-1.5.0 azure-mgmt-keyvault-10.3.1 azure-mgmt-network-28.1.0 azure-mgmt-resource-23.3.0 azure-mgmt-storage-22.0.0 azureml.core-1.59.0.post2 backports.tempfile-1.0 backports.weakref-1.0.post1 bcrypt-4.3.0 contextlib2-21.6.0 docker-7.1.0 humanfriendly-10.0 isodate-0.7.2 jmespath-1.0.1 knack-0.12.0 msal-1.32.0 msal-extensions-1.3.1 msrest-0.7.1 msrestazure-0.6.4.post1 ndg-httpsclient-0.5.1 paramiko-3.5.1 pathspec-0.12.1 pkginfo-1.12.1.2 pynacl-1.5.0\n"
          ]
        }
      ]
    },
    {
      "cell_type": "code",
      "execution_count": 12,
      "metadata": {
        "colab": {
          "base_uri": "https://localhost:8080/"
        },
        "id": "fnglNHwW0cZA",
        "outputId": "95f74ba2-9a78-45cc-d48c-02311bd80c88"
      },
      "outputs": [
        {
          "output_type": "stream",
          "name": "stdout",
          "text": [
            "Performing interactive authentication. Please follow the instructions on the terminal.\n"
          ]
        },
        {
          "output_type": "stream",
          "name": "stderr",
          "text": [
            "WARNING:azureml._vendor.azure_cli_core.auth.identity:To sign in, use a web browser to open the page https://microsoft.com/devicelogin and enter the code S4LRHCR9S to authenticate.\n"
          ]
        },
        {
          "output_type": "stream",
          "name": "stdout",
          "text": [
            "Interactive authentication successfully completed.\n"
          ]
        },
        {
          "output_type": "stream",
          "name": "stderr",
          "text": [
            "UserWarning: The resource group doesn't exist or was not provided. AzureML SDK is creating a resource group=resource_group2 in location=centralindia using subscription=70fb27be-568c-47bc-a832-b2410d37a2cc.\n"
          ]
        },
        {
          "output_type": "stream",
          "name": "stdout",
          "text": [
            "Cleaning up past default Resource Group Deployments on the subscription to avoid limit of 10\n",
            "Deleting past Resource Group Deployment with name: DeployResourceGroup-dcc5a54aa0\n",
            "Deploying KeyVault with name workspackeyvault9db51186.\n",
            "Deploying StorageAccount with name workspacstorage45141f728.\n",
            "Deploying AppInsights with name workspacinsightsc8741296.\n",
            "Deployed AppInsights with name workspacinsightsc8741296. Took 42.97 seconds.\n",
            "Deploying Workspace with name workspace.\n",
            "Deployed Workspace with name workspace. Took 38.04 seconds.\n",
            "Registering model model\n"
          ]
        }
      ],
      "source": [
        "## STEP 1: Set up the workspace.\n",
        "\n",
        "import json\n",
        "\n",
        "#GETTING MY ID:\n",
        "id = open('id_Confidential.json', 'r')\n",
        "mi = json.load(id)\n",
        "\n",
        "from azureml.core import Workspace\n",
        "\n",
        "ws = Workspace.create(name=\"workspace\",\n",
        "                      subscription_id = mi,\n",
        "                      resource_group = \"resource_group2\",\n",
        "                      location = \"centralindia\")\n",
        "\n",
        "from azureml.core.model import Model\n",
        "\n",
        "mname = \"model\"\n",
        "registered_model = Model.register(model_path=\"model.pkl\",\n",
        "                                  model_name=mname,\n",
        "                                  workspace=ws)"
      ]
    },
    {
      "cell_type": "code",
      "execution_count": 13,
      "metadata": {
        "id": "w-EUitYe0cZB"
      },
      "outputs": [],
      "source": [
        "################ score.py ###################\n",
        "\n",
        "scorepy = f\"\"\"\n",
        "import json\n",
        "import joblib\n",
        "import numpy as np\n",
        "import pandas as pd\n",
        "from azureml.core.model import Model\n",
        "\n",
        "def init():\n",
        "  global model\n",
        "  model_path = Model.get_model_path('{mname}')\n",
        "  model = joblib.load(model_path)\n",
        "\n",
        "\n",
        "def run(raw_data):\n",
        "  try: ## Try la predicción.\n",
        "    data = json.loads(raw_data)['data'][0]\n",
        "    data = pd.DataFrame(data)\n",
        "\n",
        "    result = model.predict(data).tolist()\n",
        "\n",
        "    return json.dumps(result)\n",
        "  except Exception as e:\n",
        "    return json.dumps(str(e))\n",
        "\"\"\"\n",
        "\n",
        "file_score = open(\"score.py\", \"w\")\n",
        "file_score.write(scorepy)\n",
        "file_score.close()"
      ]
    },
    {
      "cell_type": "code",
      "execution_count": 14,
      "metadata": {
        "colab": {
          "base_uri": "https://localhost:8080/"
        },
        "id": "SLxpdU1p0cZC",
        "outputId": "0e22c9d4-56ef-4836-c8ce-8facda8275c7"
      },
      "outputs": [
        {
          "output_type": "stream",
          "name": "stderr",
          "text": [
            "<ipython-input-14-0a1a30b43bf9>:18: FutureWarning: azureml.core.model:\n",
            "To leverage new model deployment capabilities, AzureML recommends using CLI/SDK v2 to deploy models as online endpoint, \n",
            "please refer to respective documentations \n",
            "https://docs.microsoft.com/azure/machine-learning/how-to-deploy-managed-online-endpoints /\n",
            "https://docs.microsoft.com/azure/machine-learning/how-to-attach-kubernetes-anywhere \n",
            "For more information on migration, see https://aka.ms/acimoemigration \n",
            "To disable CLI/SDK v1 deprecation warning set AZUREML_LOG_DEPRECATION_WARNING_ENABLED to 'False'\n",
            "  service = Model.deploy(workspace=ws,\n"
          ]
        }
      ],
      "source": [
        "## STEP 2: Inference configuration: the blueprints for the German carpenter about how to build your furniture.\n",
        "\n",
        "from azureml.core.environment import Environment\n",
        "virtual_env = Environment(\"env-4-housing\")\n",
        "\n",
        "from azureml.core.conda_dependencies import CondaDependencies\n",
        "virtual_env.python.conda_dependencies = CondaDependencies.create(conda_packages=['pandas','scikit-learn']) ## Asegúrense de coordinarse con el departamento de modelos para incluir los paquetes correctos. Si no, BOOM!\n",
        "\n",
        "\n",
        "from azureml.core.model import InferenceConfig\n",
        "from azureml.core.webservice import AciWebservice\n",
        "inference_config = InferenceConfig(\n",
        "                                environment=virtual_env,\n",
        "                                entry_script=\"score.py\",\n",
        "                                )\n",
        "aci_config = AciWebservice.deploy_configuration(cpu_cores=0.5, memory_gb=1) ## ASEGÚRENSE DE ASIGNAR SUFICIENTE MADERA PARA SUS MUEBLES.\n",
        "\n",
        "service = Model.deploy(workspace=ws,\n",
        "                       name='service',\n",
        "                       models=[registered_model],\n",
        "                       inference_config=inference_config,\n",
        "                       deployment_config=aci_config,\n",
        "                       overwrite=True,\n",
        "                       )"
      ]
    },
    {
      "cell_type": "code",
      "execution_count": 15,
      "metadata": {
        "colab": {
          "base_uri": "https://localhost:8080/"
        },
        "id": "KFbsV7Sl0cZC",
        "outputId": "b20044b2-99cd-4af9-b689-1560128dbe18"
      },
      "outputs": [
        {
          "output_type": "stream",
          "name": "stdout",
          "text": [
            "ACI service creation operation finished, operation \"Succeeded\"\n"
          ]
        }
      ],
      "source": [
        "service.wait_for_deployment()\n",
        "\n",
        "scoring_uri = service.scoring_uri\n",
        "\n",
        "scoreuri = json.dumps({\"URI\": [scoring_uri]})\n",
        "file = open(\"uri.json\", \"w\")\n",
        "file.write(scoreuri)\n",
        "file.close()"
      ]
    }
  ],
  "metadata": {
    "kernelspec": {
      "display_name": "Python 3",
      "language": "python",
      "name": "python3"
    },
    "language_info": {
      "codemirror_mode": {
        "name": "ipython",
        "version": 3
      },
      "file_extension": ".py",
      "mimetype": "text/x-python",
      "name": "python",
      "nbconvert_exporter": "python",
      "pygments_lexer": "ipython3",
      "version": "3.8.10"
    },
    "colab": {
      "provenance": []
    }
  },
  "nbformat": 4,
  "nbformat_minor": 0
}